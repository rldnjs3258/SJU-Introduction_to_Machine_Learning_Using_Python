{
 "cells": [
  {
   "cell_type": "markdown",
   "metadata": {},
   "source": [
    "### Matplotlib, Pandas, Seaborn Example"
   ]
  },
  {
   "cell_type": "markdown",
   "metadata": {},
   "source": [
    "#### DataFrame"
   ]
  },
  {
   "cell_type": "code",
   "execution_count": 1,
   "metadata": {},
   "outputs": [],
   "source": [
    "import pandas as pd\n",
    "import numpy as np"
   ]
  },
  {
   "cell_type": "code",
   "execution_count": 4,
   "metadata": {},
   "outputs": [],
   "source": [
    "df = pd.DataFrame([100, 500, 200, 250, 300], columns = ['numbers'], index = ['a', 'b', 'c', 'd', 'e'])"
   ]
  },
  {
   "cell_type": "code",
   "execution_count": 5,
   "metadata": {},
   "outputs": [
    {
     "data": {
      "text/html": [
       "<div>\n",
       "<style scoped>\n",
       "    .dataframe tbody tr th:only-of-type {\n",
       "        vertical-align: middle;\n",
       "    }\n",
       "\n",
       "    .dataframe tbody tr th {\n",
       "        vertical-align: top;\n",
       "    }\n",
       "\n",
       "    .dataframe thead th {\n",
       "        text-align: right;\n",
       "    }\n",
       "</style>\n",
       "<table border=\"1\" class=\"dataframe\">\n",
       "  <thead>\n",
       "    <tr style=\"text-align: right;\">\n",
       "      <th></th>\n",
       "      <th>numbers</th>\n",
       "    </tr>\n",
       "  </thead>\n",
       "  <tbody>\n",
       "    <tr>\n",
       "      <th>a</th>\n",
       "      <td>100</td>\n",
       "    </tr>\n",
       "    <tr>\n",
       "      <th>b</th>\n",
       "      <td>500</td>\n",
       "    </tr>\n",
       "    <tr>\n",
       "      <th>c</th>\n",
       "      <td>200</td>\n",
       "    </tr>\n",
       "    <tr>\n",
       "      <th>d</th>\n",
       "      <td>250</td>\n",
       "    </tr>\n",
       "    <tr>\n",
       "      <th>e</th>\n",
       "      <td>300</td>\n",
       "    </tr>\n",
       "  </tbody>\n",
       "</table>\n",
       "</div>"
      ],
      "text/plain": [
       "   numbers\n",
       "a      100\n",
       "b      500\n",
       "c      200\n",
       "d      250\n",
       "e      300"
      ]
     },
     "execution_count": 5,
     "metadata": {},
     "output_type": "execute_result"
    }
   ],
   "source": [
    "df"
   ]
  },
  {
   "cell_type": "code",
   "execution_count": 6,
   "metadata": {},
   "outputs": [
    {
     "data": {
      "text/plain": [
       "numbers    1350\n",
       "dtype: int64"
      ]
     },
     "execution_count": 6,
     "metadata": {},
     "output_type": "execute_result"
    }
   ],
   "source": [
    "df.sum()"
   ]
  },
  {
   "cell_type": "code",
   "execution_count": 7,
   "metadata": {},
   "outputs": [
    {
     "data": {
      "text/plain": [
       "a     10000\n",
       "b    250000\n",
       "c     40000\n",
       "d     62500\n",
       "e     90000\n",
       "Name: numbers, dtype: int64"
      ]
     },
     "execution_count": 7,
     "metadata": {},
     "output_type": "execute_result"
    }
   ],
   "source": [
    "df.numbers**2"
   ]
  },
  {
   "cell_type": "code",
   "execution_count": 8,
   "metadata": {},
   "outputs": [],
   "source": [
    "df['values'] = (10, 50, 40, 30, 60)"
   ]
  },
  {
   "cell_type": "code",
   "execution_count": 9,
   "metadata": {},
   "outputs": [
    {
     "data": {
      "text/html": [
       "<div>\n",
       "<style scoped>\n",
       "    .dataframe tbody tr th:only-of-type {\n",
       "        vertical-align: middle;\n",
       "    }\n",
       "\n",
       "    .dataframe tbody tr th {\n",
       "        vertical-align: top;\n",
       "    }\n",
       "\n",
       "    .dataframe thead th {\n",
       "        text-align: right;\n",
       "    }\n",
       "</style>\n",
       "<table border=\"1\" class=\"dataframe\">\n",
       "  <thead>\n",
       "    <tr style=\"text-align: right;\">\n",
       "      <th></th>\n",
       "      <th>numbers</th>\n",
       "      <th>values</th>\n",
       "    </tr>\n",
       "  </thead>\n",
       "  <tbody>\n",
       "    <tr>\n",
       "      <th>a</th>\n",
       "      <td>100</td>\n",
       "      <td>10</td>\n",
       "    </tr>\n",
       "    <tr>\n",
       "      <th>b</th>\n",
       "      <td>500</td>\n",
       "      <td>50</td>\n",
       "    </tr>\n",
       "    <tr>\n",
       "      <th>c</th>\n",
       "      <td>200</td>\n",
       "      <td>40</td>\n",
       "    </tr>\n",
       "    <tr>\n",
       "      <th>d</th>\n",
       "      <td>250</td>\n",
       "      <td>30</td>\n",
       "    </tr>\n",
       "    <tr>\n",
       "      <th>e</th>\n",
       "      <td>300</td>\n",
       "      <td>60</td>\n",
       "    </tr>\n",
       "  </tbody>\n",
       "</table>\n",
       "</div>"
      ],
      "text/plain": [
       "   numbers  values\n",
       "a      100      10\n",
       "b      500      50\n",
       "c      200      40\n",
       "d      250      30\n",
       "e      300      60"
      ]
     },
     "execution_count": 9,
     "metadata": {},
     "output_type": "execute_result"
    }
   ],
   "source": [
    "df"
   ]
  },
  {
   "cell_type": "code",
   "execution_count": 10,
   "metadata": {},
   "outputs": [
    {
     "data": {
      "text/html": [
       "<div>\n",
       "<style scoped>\n",
       "    .dataframe tbody tr th:only-of-type {\n",
       "        vertical-align: middle;\n",
       "    }\n",
       "\n",
       "    .dataframe tbody tr th {\n",
       "        vertical-align: top;\n",
       "    }\n",
       "\n",
       "    .dataframe thead th {\n",
       "        text-align: right;\n",
       "    }\n",
       "</style>\n",
       "<table border=\"1\" class=\"dataframe\">\n",
       "  <thead>\n",
       "    <tr style=\"text-align: right;\">\n",
       "      <th></th>\n",
       "      <th>numbers</th>\n",
       "    </tr>\n",
       "  </thead>\n",
       "  <tbody>\n",
       "    <tr>\n",
       "      <th>a</th>\n",
       "      <td>100</td>\n",
       "    </tr>\n",
       "    <tr>\n",
       "      <th>b</th>\n",
       "      <td>500</td>\n",
       "    </tr>\n",
       "    <tr>\n",
       "      <th>c</th>\n",
       "      <td>200</td>\n",
       "    </tr>\n",
       "    <tr>\n",
       "      <th>d</th>\n",
       "      <td>250</td>\n",
       "    </tr>\n",
       "    <tr>\n",
       "      <th>e</th>\n",
       "      <td>300</td>\n",
       "    </tr>\n",
       "  </tbody>\n",
       "</table>\n",
       "</div>"
      ],
      "text/plain": [
       "   numbers\n",
       "a      100\n",
       "b      500\n",
       "c      200\n",
       "d      250\n",
       "e      300"
      ]
     },
     "execution_count": 10,
     "metadata": {},
     "output_type": "execute_result"
    }
   ],
   "source": [
    "del df['values']\n",
    "df"
   ]
  },
  {
   "cell_type": "code",
   "execution_count": 14,
   "metadata": {},
   "outputs": [],
   "source": [
    "df_1 = pd.DataFrame(['1', '2', '3'], columns = ['A'])\n",
    "df_2 = pd.DataFrame(['4', '5'], columns = ['B'])"
   ]
  },
  {
   "cell_type": "code",
   "execution_count": 15,
   "metadata": {},
   "outputs": [
    {
     "data": {
      "text/html": [
       "<div>\n",
       "<style scoped>\n",
       "    .dataframe tbody tr th:only-of-type {\n",
       "        vertical-align: middle;\n",
       "    }\n",
       "\n",
       "    .dataframe tbody tr th {\n",
       "        vertical-align: top;\n",
       "    }\n",
       "\n",
       "    .dataframe thead th {\n",
       "        text-align: right;\n",
       "    }\n",
       "</style>\n",
       "<table border=\"1\" class=\"dataframe\">\n",
       "  <thead>\n",
       "    <tr style=\"text-align: right;\">\n",
       "      <th></th>\n",
       "      <th>A</th>\n",
       "      <th>B</th>\n",
       "    </tr>\n",
       "  </thead>\n",
       "  <tbody>\n",
       "    <tr>\n",
       "      <th>0</th>\n",
       "      <td>1</td>\n",
       "      <td>4</td>\n",
       "    </tr>\n",
       "    <tr>\n",
       "      <th>1</th>\n",
       "      <td>2</td>\n",
       "      <td>5</td>\n",
       "    </tr>\n",
       "    <tr>\n",
       "      <th>2</th>\n",
       "      <td>3</td>\n",
       "      <td>NaN</td>\n",
       "    </tr>\n",
       "  </tbody>\n",
       "</table>\n",
       "</div>"
      ],
      "text/plain": [
       "   A    B\n",
       "0  1    4\n",
       "1  2    5\n",
       "2  3  NaN"
      ]
     },
     "execution_count": 15,
     "metadata": {},
     "output_type": "execute_result"
    }
   ],
   "source": [
    "df = df_1.join(df_2, how='outer')\n",
    "df"
   ]
  },
  {
   "cell_type": "code",
   "execution_count": 16,
   "metadata": {},
   "outputs": [
    {
     "data": {
      "text/plain": [
       "A    3.0\n",
       "B    5.0\n",
       "dtype: float64"
      ]
     },
     "execution_count": 16,
     "metadata": {},
     "output_type": "execute_result"
    }
   ],
   "source": [
    "df.max()"
   ]
  },
  {
   "cell_type": "code",
   "execution_count": 17,
   "metadata": {},
   "outputs": [
    {
     "data": {
      "text/plain": [
       "A    1.000000\n",
       "B         inf\n",
       "dtype: float64"
      ]
     },
     "execution_count": 17,
     "metadata": {},
     "output_type": "execute_result"
    }
   ],
   "source": [
    "df.min()"
   ]
  },
  {
   "cell_type": "code",
   "execution_count": 18,
   "metadata": {},
   "outputs": [
    {
     "data": {
      "text/plain": [
       "A    41.0\n",
       "dtype: float64"
      ]
     },
     "execution_count": 18,
     "metadata": {},
     "output_type": "execute_result"
    }
   ],
   "source": [
    "df.mean()"
   ]
  },
  {
   "cell_type": "code",
   "execution_count": 20,
   "metadata": {},
   "outputs": [
    {
     "data": {
      "text/plain": [
       "A    123\n",
       "dtype: object"
      ]
     },
     "execution_count": 20,
     "metadata": {},
     "output_type": "execute_result"
    }
   ],
   "source": [
    "df.sum()"
   ]
  },
  {
   "cell_type": "code",
   "execution_count": 24,
   "metadata": {},
   "outputs": [
    {
     "data": {
      "text/html": [
       "<div>\n",
       "<style scoped>\n",
       "    .dataframe tbody tr th:only-of-type {\n",
       "        vertical-align: middle;\n",
       "    }\n",
       "\n",
       "    .dataframe tbody tr th {\n",
       "        vertical-align: top;\n",
       "    }\n",
       "\n",
       "    .dataframe thead th {\n",
       "        text-align: right;\n",
       "    }\n",
       "</style>\n",
       "<table border=\"1\" class=\"dataframe\">\n",
       "  <thead>\n",
       "    <tr style=\"text-align: right;\">\n",
       "      <th></th>\n",
       "      <th>A</th>\n",
       "      <th>B</th>\n",
       "    </tr>\n",
       "  </thead>\n",
       "  <tbody>\n",
       "    <tr>\n",
       "      <th>0</th>\n",
       "      <td>1</td>\n",
       "      <td>4</td>\n",
       "    </tr>\n",
       "    <tr>\n",
       "      <th>1</th>\n",
       "      <td>2</td>\n",
       "      <td>5</td>\n",
       "    </tr>\n",
       "    <tr>\n",
       "      <th>2</th>\n",
       "      <td>3</td>\n",
       "      <td>NaN</td>\n",
       "    </tr>\n",
       "  </tbody>\n",
       "</table>\n",
       "</div>"
      ],
      "text/plain": [
       "   A    B\n",
       "0  1    4\n",
       "1  2    5\n",
       "2  3  NaN"
      ]
     },
     "execution_count": 24,
     "metadata": {},
     "output_type": "execute_result"
    }
   ],
   "source": [
    "df.describe()\n",
    "df"
   ]
  },
  {
   "cell_type": "code",
   "execution_count": 25,
   "metadata": {},
   "outputs": [],
   "source": [
    "df['division'] = ['X', 'Y', 'X']"
   ]
  },
  {
   "cell_type": "code",
   "execution_count": 30,
   "metadata": {},
   "outputs": [
    {
     "name": "stdout",
     "output_type": "stream",
     "text": [
      "<pandas.core.groupby.groupby.DataFrameGroupBy object at 0x0000000012055048>\n"
     ]
    }
   ],
   "source": [
    "print(df.groupby(['division']))"
   ]
  },
  {
   "cell_type": "code",
   "execution_count": 31,
   "metadata": {},
   "outputs": [
    {
     "data": {
      "text/html": [
       "<div>\n",
       "<style scoped>\n",
       "    .dataframe tbody tr th:only-of-type {\n",
       "        vertical-align: middle;\n",
       "    }\n",
       "\n",
       "    .dataframe tbody tr th {\n",
       "        vertical-align: top;\n",
       "    }\n",
       "\n",
       "    .dataframe thead th {\n",
       "        text-align: right;\n",
       "    }\n",
       "</style>\n",
       "<table border=\"1\" class=\"dataframe\">\n",
       "  <thead>\n",
       "    <tr style=\"text-align: right;\">\n",
       "      <th></th>\n",
       "      <th>A</th>\n",
       "      <th>B</th>\n",
       "      <th>division</th>\n",
       "    </tr>\n",
       "  </thead>\n",
       "  <tbody>\n",
       "    <tr>\n",
       "      <th>0</th>\n",
       "      <td>1</td>\n",
       "      <td>4</td>\n",
       "      <td>X</td>\n",
       "    </tr>\n",
       "    <tr>\n",
       "      <th>1</th>\n",
       "      <td>2</td>\n",
       "      <td>5</td>\n",
       "      <td>Y</td>\n",
       "    </tr>\n",
       "    <tr>\n",
       "      <th>2</th>\n",
       "      <td>3</td>\n",
       "      <td>NaN</td>\n",
       "      <td>X</td>\n",
       "    </tr>\n",
       "  </tbody>\n",
       "</table>\n",
       "</div>"
      ],
      "text/plain": [
       "   A    B division\n",
       "0  1    4        X\n",
       "1  2    5        Y\n",
       "2  3  NaN        X"
      ]
     },
     "execution_count": 31,
     "metadata": {},
     "output_type": "execute_result"
    }
   ],
   "source": [
    "df"
   ]
  },
  {
   "cell_type": "markdown",
   "metadata": {},
   "source": [
    "### matplotlib"
   ]
  },
  {
   "cell_type": "code",
   "execution_count": 32,
   "metadata": {},
   "outputs": [],
   "source": [
    "import matplotlib as mpl\n",
    "import matplotlib.pyplot as plt\n",
    "import numpy as np\n",
    "%matplotlib inline"
   ]
  },
  {
   "cell_type": "code",
   "execution_count": 33,
   "metadata": {},
   "outputs": [],
   "source": [
    "value = np.random.standard_normal(40)"
   ]
  },
  {
   "cell_type": "code",
   "execution_count": 34,
   "metadata": {},
   "outputs": [],
   "source": [
    "index = range(len(value))"
   ]
  },
  {
   "cell_type": "code",
   "execution_count": 35,
   "metadata": {},
   "outputs": [
    {
     "data": {
      "text/plain": [
       "array([ 0.92421299, -0.66455147,  1.4126335 , -1.8898548 ,  0.24391225,\n",
       "       -1.0918325 , -0.63998179,  1.23990748, -0.48876606, -0.69322442,\n",
       "        0.65189814,  0.33095881,  0.73423184,  1.70041595,  0.60033892,\n",
       "        1.33456918,  0.05517118, -0.17151425,  1.28654158,  0.17852288,\n",
       "       -0.52999555,  0.92609368,  0.07868059,  0.14827018,  1.9035427 ,\n",
       "        1.07748463,  1.3300267 ,  0.67404606,  0.46632613,  1.32555761,\n",
       "       -0.70801786, -1.25214672, -0.68545158, -0.00811385,  0.60510534,\n",
       "       -1.87679584, -0.13660236, -1.50323638, -1.9196118 , -0.00958424])"
      ]
     },
     "execution_count": 35,
     "metadata": {},
     "output_type": "execute_result"
    }
   ],
   "source": [
    "value"
   ]
  },
  {
   "cell_type": "code",
   "execution_count": 36,
   "metadata": {},
   "outputs": [
    {
     "data": {
      "text/plain": [
       "[0,\n",
       " 1,\n",
       " 2,\n",
       " 3,\n",
       " 4,\n",
       " 5,\n",
       " 6,\n",
       " 7,\n",
       " 8,\n",
       " 9,\n",
       " 10,\n",
       " 11,\n",
       " 12,\n",
       " 13,\n",
       " 14,\n",
       " 15,\n",
       " 16,\n",
       " 17,\n",
       " 18,\n",
       " 19,\n",
       " 20,\n",
       " 21,\n",
       " 22,\n",
       " 23,\n",
       " 24,\n",
       " 25,\n",
       " 26,\n",
       " 27,\n",
       " 28,\n",
       " 29,\n",
       " 30,\n",
       " 31,\n",
       " 32,\n",
       " 33,\n",
       " 34,\n",
       " 35,\n",
       " 36,\n",
       " 37,\n",
       " 38,\n",
       " 39]"
      ]
     },
     "execution_count": 36,
     "metadata": {},
     "output_type": "execute_result"
    }
   ],
   "source": [
    "index"
   ]
  },
  {
   "cell_type": "code",
   "execution_count": 37,
   "metadata": {},
   "outputs": [
    {
     "data": {
      "text/plain": [
       "[<matplotlib.lines.Line2D at 0x138b1d30>]"
      ]
     },
     "execution_count": 37,
     "metadata": {},
     "output_type": "execute_result"
    },
    {
     "data": {
      "image/png": "[encoded data removed]",
      "text/plain": [
       "<Figure size 432x288 with 1 Axes>"
      ]
     },
     "metadata": {
      "needs_background": "light"
     },
     "output_type": "display_data"
    }
   ],
   "source": [
    "plt.plot(index, value)"
   ]
  },
  {
   "cell_type": "code",
   "execution_count": 39,
   "metadata": {},
   "outputs": [
    {
     "data": {
      "text/plain": [
       "[<matplotlib.lines.Line2D at 0x13bfb860>]"
      ]
     },
     "execution_count": 39,
     "metadata": {},
     "output_type": "execute_result"
    },
    {
     "data": {
      "image/png": "[encoded data removed]",
      "text/plain": [
       "<Figure size 432x288 with 1 Axes>"
      ]
     },
     "metadata": {
      "needs_background": "light"
     },
     "output_type": "display_data"
    }
   ],
   "source": [
    "plt.xlim(0, 20)\n",
    "plt.xlim(np.min(value)-1, np.max(value)+1)\n",
    "plt.plot(index, value)"
   ]
  },
  {
   "cell_type": "code",
   "execution_count": 41,
   "metadata": {},
   "outputs": [
    {
     "data": {
      "text/plain": [
       "Text(0.5,1,'Line Plot 1')"
      ]
     },
     "execution_count": 41,
     "metadata": {},
     "output_type": "execute_result"
    },
    {
     "data": {
      "image/png": "[encoded data removed]",
      "text/plain": [
       "<Figure size 504x288 with 1 Axes>"
      ]
     },
     "metadata": {
      "needs_background": "light"
     },
     "output_type": "display_data"
    }
   ],
   "source": [
    "plt.figure(figsize=(7,4))\n",
    "plt.plot(value.cumsum(), 'b', lw=1.5)\n",
    "plt.plot(value.cumsum(), 'ro')\n",
    "plt.xlabel('index')\n",
    "plt.ylabel('value')\n",
    "plt.title('Line Plot 1')"
   ]
  },
  {
   "cell_type": "code",
   "execution_count": 42,
   "metadata": {},
   "outputs": [],
   "source": [
    "value = np.random.standard_normal((30, 2))"
   ]
  },
  {
   "cell_type": "code",
   "execution_count": 44,
   "metadata": {},
   "outputs": [
    {
     "data": {
      "text/plain": [
       "Text(0,0.5,'value')"
      ]
     },
     "execution_count": 44,
     "metadata": {},
     "output_type": "execute_result"
    },
    {
     "data": {
      "image/png": "[encoded data removed]",
      "text/plain": [
       "<Figure size 720x288 with 2 Axes>"
      ]
     },
     "metadata": {
      "needs_background": "light"
     },
     "output_type": "display_data"
    }
   ],
   "source": [
    "plt.figure(figsize=(10,4))\n",
    "plt.subplot(211)\n",
    "plt.plot(value[:,0], lw=1.5, label='1st')\n",
    "plt.plot(value, 'ro')\n",
    "plt.grid(True)\n",
    "plt.legend(loc=0)\n",
    "plt.ylabel('value')\n",
    "plt.title('Line Plot 3')\n",
    "\n",
    "plt.subplot(212)\n",
    "plt.plot(value[:,1], 'g', lw=1.5, label='2nd')\n",
    "plt.grid(True)\n",
    "plt.legend(loc=0)\n",
    "plt.axis('tight')\n",
    "plt.ylabel('value')"
   ]
  },
  {
   "cell_type": "code",
   "execution_count": 45,
   "metadata": {},
   "outputs": [
    {
     "data": {
      "text/plain": [
       "Text(0.5,1,'Scatter Plot 1')"
      ]
     },
     "execution_count": 45,
     "metadata": {},
     "output_type": "execute_result"
    },
    {
     "data": {
      "image/png": "[encoded data removed]",
      "text/plain": [
       "<Figure size 432x288 with 1 Axes>"
      ]
     },
     "metadata": {
      "needs_background": "light"
     },
     "output_type": "display_data"
    }
   ],
   "source": [
    "value = np.random.standard_normal((500, 2))\n",
    "plt.plot(value[:,0], value[:,1], 'ro')\n",
    "plt.grid(False)\n",
    "plt.xlabel('value1')\n",
    "plt.ylabel('value2')\n",
    "plt.title('Scatter Plot 1')"
   ]
  },
  {
   "cell_type": "code",
   "execution_count": 47,
   "metadata": {},
   "outputs": [
    {
     "data": {
      "text/plain": [
       "([array([ 0.,  0.,  0.,  5.,  7.,  6., 10., 12., 19., 19., 27., 44., 42.,\n",
       "         60., 40., 49., 36., 26., 25., 26., 16., 16.,  8.,  2.,  1.,  2.,\n",
       "          1.,  0.,  0.,  1.]),\n",
       "  array([ 1.,  0.,  2.,  1.,  2., 10., 10., 15., 22., 24., 35., 32., 32.,\n",
       "         48., 38., 36., 59., 39., 28., 27., 10., 14.,  2.,  4.,  6.,  1.,\n",
       "          1.,  0.,  0.,  1.])],\n",
       " array([-3.22929702, -3.0038221 , -2.77834717, -2.55287225, -2.32739732,\n",
       "        -2.10192239, -1.87644747, -1.65097254, -1.42549762, -1.20002269,\n",
       "        -0.97454777, -0.74907284, -0.52359792, -0.29812299, -0.07264807,\n",
       "         0.15282686,  0.37830179,  0.60377671,  0.82925164,  1.05472656,\n",
       "         1.28020149,  1.50567641,  1.73115134,  1.95662626,  2.18210119,\n",
       "         2.40757612,  2.63305104,  2.85852597,  3.08400089,  3.30947582,\n",
       "         3.53495074]),\n",
       " <a list of 2 Lists of Patches objects>)"
      ]
     },
     "execution_count": 47,
     "metadata": {},
     "output_type": "execute_result"
    },
    {
     "data": {
      "image/png": "[encoded data removed]",
      "text/plain": [
       "<Figure size 864x504 with 1 Axes>"
      ]
     },
     "metadata": {
      "needs_background": "light"
     },
     "output_type": "display_data"
    }
   ],
   "source": [
    "plt.figure(figsize=(12, 7))\n",
    "plt.hist(value, label = ['1st', '2nd'], bins=30)"
   ]
  },
  {
   "cell_type": "markdown",
   "metadata": {},
   "source": [
    "### pandas"
   ]
  },
  {
   "cell_type": "code",
   "execution_count": 53,
   "metadata": {},
   "outputs": [],
   "source": [
    "import pandas as pd\n",
    "from pandas import scatter_matrix"
   ]
  },
  {
   "cell_type": "code",
   "execution_count": 54,
   "metadata": {},
   "outputs": [],
   "source": [
    "value = np.random.randn(500, 4)\n",
    "df = pd.DataFrame(value, columns = ['value1', 'value2', 'value3', 'value4'])"
   ]
  },
  {
   "cell_type": "code",
   "execution_count": 55,
   "metadata": {},
   "outputs": [
    {
     "data": {
      "text/html": [
       "<div>\n",
       "<style scoped>\n",
       "    .dataframe tbody tr th:only-of-type {\n",
       "        vertical-align: middle;\n",
       "    }\n",
       "\n",
       "    .dataframe tbody tr th {\n",
       "        vertical-align: top;\n",
       "    }\n",
       "\n",
       "    .dataframe thead th {\n",
       "        text-align: right;\n",
       "    }\n",
       "</style>\n",
       "<table border=\"1\" class=\"dataframe\">\n",
       "  <thead>\n",
       "    <tr style=\"text-align: right;\">\n",
       "      <th></th>\n",
       "      <th>value1</th>\n",
       "      <th>value2</th>\n",
       "      <th>value3</th>\n",
       "      <th>value4</th>\n",
       "    </tr>\n",
       "  </thead>\n",
       "  <tbody>\n",
       "    <tr>\n",
       "      <th>0</th>\n",
       "      <td>-1.242792</td>\n",
       "      <td>-0.950909</td>\n",
       "      <td>-0.113704</td>\n",
       "      <td>-0.468531</td>\n",
       "    </tr>\n",
       "    <tr>\n",
       "      <th>1</th>\n",
       "      <td>1.218884</td>\n",
       "      <td>0.985338</td>\n",
       "      <td>-0.073398</td>\n",
       "      <td>0.934937</td>\n",
       "    </tr>\n",
       "    <tr>\n",
       "      <th>2</th>\n",
       "      <td>-1.080485</td>\n",
       "      <td>-1.121431</td>\n",
       "      <td>2.191012</td>\n",
       "      <td>-0.903608</td>\n",
       "    </tr>\n",
       "    <tr>\n",
       "      <th>3</th>\n",
       "      <td>-0.213825</td>\n",
       "      <td>-1.218590</td>\n",
       "      <td>-1.395919</td>\n",
       "      <td>-0.273149</td>\n",
       "    </tr>\n",
       "    <tr>\n",
       "      <th>4</th>\n",
       "      <td>1.262840</td>\n",
       "      <td>0.378681</td>\n",
       "      <td>-0.686289</td>\n",
       "      <td>1.845988</td>\n",
       "    </tr>\n",
       "    <tr>\n",
       "      <th>5</th>\n",
       "      <td>-0.011632</td>\n",
       "      <td>0.538161</td>\n",
       "      <td>-1.427357</td>\n",
       "      <td>0.216913</td>\n",
       "    </tr>\n",
       "    <tr>\n",
       "      <th>6</th>\n",
       "      <td>-0.673574</td>\n",
       "      <td>0.137865</td>\n",
       "      <td>-0.245182</td>\n",
       "      <td>0.429225</td>\n",
       "    </tr>\n",
       "    <tr>\n",
       "      <th>7</th>\n",
       "      <td>-1.032142</td>\n",
       "      <td>0.977869</td>\n",
       "      <td>-1.267411</td>\n",
       "      <td>-0.371800</td>\n",
       "    </tr>\n",
       "    <tr>\n",
       "      <th>8</th>\n",
       "      <td>0.979109</td>\n",
       "      <td>-0.088962</td>\n",
       "      <td>0.787205</td>\n",
       "      <td>0.476403</td>\n",
       "    </tr>\n",
       "    <tr>\n",
       "      <th>9</th>\n",
       "      <td>-0.934138</td>\n",
       "      <td>1.100111</td>\n",
       "      <td>-0.765507</td>\n",
       "      <td>-0.379743</td>\n",
       "    </tr>\n",
       "    <tr>\n",
       "      <th>10</th>\n",
       "      <td>0.575288</td>\n",
       "      <td>-1.745675</td>\n",
       "      <td>-0.045279</td>\n",
       "      <td>0.405061</td>\n",
       "    </tr>\n",
       "    <tr>\n",
       "      <th>11</th>\n",
       "      <td>0.846512</td>\n",
       "      <td>0.177144</td>\n",
       "      <td>-0.083207</td>\n",
       "      <td>0.282986</td>\n",
       "    </tr>\n",
       "    <tr>\n",
       "      <th>12</th>\n",
       "      <td>0.948003</td>\n",
       "      <td>1.018580</td>\n",
       "      <td>-0.031314</td>\n",
       "      <td>0.012756</td>\n",
       "    </tr>\n",
       "    <tr>\n",
       "      <th>13</th>\n",
       "      <td>-0.512908</td>\n",
       "      <td>0.690853</td>\n",
       "      <td>-0.115952</td>\n",
       "      <td>0.813600</td>\n",
       "    </tr>\n",
       "    <tr>\n",
       "      <th>14</th>\n",
       "      <td>0.372737</td>\n",
       "      <td>-0.486765</td>\n",
       "      <td>-0.512968</td>\n",
       "      <td>-1.062927</td>\n",
       "    </tr>\n",
       "    <tr>\n",
       "      <th>15</th>\n",
       "      <td>-0.800698</td>\n",
       "      <td>0.263608</td>\n",
       "      <td>1.734419</td>\n",
       "      <td>1.681362</td>\n",
       "    </tr>\n",
       "    <tr>\n",
       "      <th>16</th>\n",
       "      <td>0.153072</td>\n",
       "      <td>-1.938354</td>\n",
       "      <td>0.512061</td>\n",
       "      <td>-1.574238</td>\n",
       "    </tr>\n",
       "    <tr>\n",
       "      <th>17</th>\n",
       "      <td>-0.194048</td>\n",
       "      <td>-1.178506</td>\n",
       "      <td>-0.445712</td>\n",
       "      <td>-0.855627</td>\n",
       "    </tr>\n",
       "    <tr>\n",
       "      <th>18</th>\n",
       "      <td>0.201827</td>\n",
       "      <td>-1.161509</td>\n",
       "      <td>-1.557041</td>\n",
       "      <td>-1.102628</td>\n",
       "    </tr>\n",
       "    <tr>\n",
       "      <th>19</th>\n",
       "      <td>1.538187</td>\n",
       "      <td>0.718721</td>\n",
       "      <td>-0.013299</td>\n",
       "      <td>0.460764</td>\n",
       "    </tr>\n",
       "    <tr>\n",
       "      <th>20</th>\n",
       "      <td>0.467409</td>\n",
       "      <td>1.278752</td>\n",
       "      <td>0.309938</td>\n",
       "      <td>0.185128</td>\n",
       "    </tr>\n",
       "    <tr>\n",
       "      <th>21</th>\n",
       "      <td>0.236186</td>\n",
       "      <td>0.769584</td>\n",
       "      <td>0.224319</td>\n",
       "      <td>1.276812</td>\n",
       "    </tr>\n",
       "    <tr>\n",
       "      <th>22</th>\n",
       "      <td>1.479865</td>\n",
       "      <td>-2.049436</td>\n",
       "      <td>-0.279597</td>\n",
       "      <td>0.255224</td>\n",
       "    </tr>\n",
       "    <tr>\n",
       "      <th>23</th>\n",
       "      <td>-0.086427</td>\n",
       "      <td>-0.829970</td>\n",
       "      <td>1.747586</td>\n",
       "      <td>-0.354977</td>\n",
       "    </tr>\n",
       "    <tr>\n",
       "      <th>24</th>\n",
       "      <td>1.837456</td>\n",
       "      <td>1.342027</td>\n",
       "      <td>1.221319</td>\n",
       "      <td>-0.607342</td>\n",
       "    </tr>\n",
       "    <tr>\n",
       "      <th>25</th>\n",
       "      <td>-0.615430</td>\n",
       "      <td>-0.949393</td>\n",
       "      <td>2.247401</td>\n",
       "      <td>-0.477536</td>\n",
       "    </tr>\n",
       "    <tr>\n",
       "      <th>26</th>\n",
       "      <td>-0.207119</td>\n",
       "      <td>0.497745</td>\n",
       "      <td>-0.625808</td>\n",
       "      <td>-0.902232</td>\n",
       "    </tr>\n",
       "    <tr>\n",
       "      <th>27</th>\n",
       "      <td>-0.857503</td>\n",
       "      <td>-0.777243</td>\n",
       "      <td>-2.649048</td>\n",
       "      <td>1.590168</td>\n",
       "    </tr>\n",
       "    <tr>\n",
       "      <th>28</th>\n",
       "      <td>-0.025858</td>\n",
       "      <td>0.266975</td>\n",
       "      <td>-1.006150</td>\n",
       "      <td>-0.149595</td>\n",
       "    </tr>\n",
       "    <tr>\n",
       "      <th>29</th>\n",
       "      <td>1.993779</td>\n",
       "      <td>-0.340798</td>\n",
       "      <td>-0.670607</td>\n",
       "      <td>-0.670721</td>\n",
       "    </tr>\n",
       "    <tr>\n",
       "      <th>...</th>\n",
       "      <td>...</td>\n",
       "      <td>...</td>\n",
       "      <td>...</td>\n",
       "      <td>...</td>\n",
       "    </tr>\n",
       "    <tr>\n",
       "      <th>470</th>\n",
       "      <td>-0.435661</td>\n",
       "      <td>-0.107134</td>\n",
       "      <td>-0.956908</td>\n",
       "      <td>-0.109261</td>\n",
       "    </tr>\n",
       "    <tr>\n",
       "      <th>471</th>\n",
       "      <td>1.580564</td>\n",
       "      <td>-0.465805</td>\n",
       "      <td>1.457943</td>\n",
       "      <td>-1.418397</td>\n",
       "    </tr>\n",
       "    <tr>\n",
       "      <th>472</th>\n",
       "      <td>0.549299</td>\n",
       "      <td>0.395088</td>\n",
       "      <td>0.160335</td>\n",
       "      <td>0.913509</td>\n",
       "    </tr>\n",
       "    <tr>\n",
       "      <th>473</th>\n",
       "      <td>-1.399952</td>\n",
       "      <td>0.845960</td>\n",
       "      <td>0.471456</td>\n",
       "      <td>-0.280354</td>\n",
       "    </tr>\n",
       "    <tr>\n",
       "      <th>474</th>\n",
       "      <td>0.236455</td>\n",
       "      <td>-0.978621</td>\n",
       "      <td>-0.546400</td>\n",
       "      <td>-1.626062</td>\n",
       "    </tr>\n",
       "    <tr>\n",
       "      <th>475</th>\n",
       "      <td>-0.305186</td>\n",
       "      <td>-0.189920</td>\n",
       "      <td>1.354091</td>\n",
       "      <td>0.097312</td>\n",
       "    </tr>\n",
       "    <tr>\n",
       "      <th>476</th>\n",
       "      <td>0.750758</td>\n",
       "      <td>0.377859</td>\n",
       "      <td>-0.756556</td>\n",
       "      <td>0.281568</td>\n",
       "    </tr>\n",
       "    <tr>\n",
       "      <th>477</th>\n",
       "      <td>-0.565522</td>\n",
       "      <td>-2.756689</td>\n",
       "      <td>-0.824368</td>\n",
       "      <td>-0.173430</td>\n",
       "    </tr>\n",
       "    <tr>\n",
       "      <th>478</th>\n",
       "      <td>1.604647</td>\n",
       "      <td>-1.172632</td>\n",
       "      <td>0.799930</td>\n",
       "      <td>0.133006</td>\n",
       "    </tr>\n",
       "    <tr>\n",
       "      <th>479</th>\n",
       "      <td>-0.099548</td>\n",
       "      <td>-1.085971</td>\n",
       "      <td>0.114024</td>\n",
       "      <td>-0.672301</td>\n",
       "    </tr>\n",
       "    <tr>\n",
       "      <th>480</th>\n",
       "      <td>0.120769</td>\n",
       "      <td>0.112670</td>\n",
       "      <td>1.114388</td>\n",
       "      <td>1.318711</td>\n",
       "    </tr>\n",
       "    <tr>\n",
       "      <th>481</th>\n",
       "      <td>-1.058115</td>\n",
       "      <td>-0.785469</td>\n",
       "      <td>0.031638</td>\n",
       "      <td>0.278866</td>\n",
       "    </tr>\n",
       "    <tr>\n",
       "      <th>482</th>\n",
       "      <td>0.982574</td>\n",
       "      <td>0.908906</td>\n",
       "      <td>-0.675242</td>\n",
       "      <td>1.012615</td>\n",
       "    </tr>\n",
       "    <tr>\n",
       "      <th>483</th>\n",
       "      <td>0.590721</td>\n",
       "      <td>0.545759</td>\n",
       "      <td>-0.283771</td>\n",
       "      <td>-0.212492</td>\n",
       "    </tr>\n",
       "    <tr>\n",
       "      <th>484</th>\n",
       "      <td>-1.201221</td>\n",
       "      <td>-0.126789</td>\n",
       "      <td>-1.930606</td>\n",
       "      <td>0.162941</td>\n",
       "    </tr>\n",
       "    <tr>\n",
       "      <th>485</th>\n",
       "      <td>-1.301042</td>\n",
       "      <td>-1.003486</td>\n",
       "      <td>0.085552</td>\n",
       "      <td>-0.150525</td>\n",
       "    </tr>\n",
       "    <tr>\n",
       "      <th>486</th>\n",
       "      <td>-0.001703</td>\n",
       "      <td>2.051382</td>\n",
       "      <td>0.152757</td>\n",
       "      <td>0.495016</td>\n",
       "    </tr>\n",
       "    <tr>\n",
       "      <th>487</th>\n",
       "      <td>-1.147799</td>\n",
       "      <td>-0.183211</td>\n",
       "      <td>-0.549064</td>\n",
       "      <td>1.710210</td>\n",
       "    </tr>\n",
       "    <tr>\n",
       "      <th>488</th>\n",
       "      <td>1.608736</td>\n",
       "      <td>0.815881</td>\n",
       "      <td>-0.441957</td>\n",
       "      <td>1.212831</td>\n",
       "    </tr>\n",
       "    <tr>\n",
       "      <th>489</th>\n",
       "      <td>1.558463</td>\n",
       "      <td>1.915134</td>\n",
       "      <td>-0.051436</td>\n",
       "      <td>0.602893</td>\n",
       "    </tr>\n",
       "    <tr>\n",
       "      <th>490</th>\n",
       "      <td>0.876359</td>\n",
       "      <td>-1.061796</td>\n",
       "      <td>0.885227</td>\n",
       "      <td>-1.886710</td>\n",
       "    </tr>\n",
       "    <tr>\n",
       "      <th>491</th>\n",
       "      <td>-0.274206</td>\n",
       "      <td>-0.336339</td>\n",
       "      <td>-0.284281</td>\n",
       "      <td>-0.327872</td>\n",
       "    </tr>\n",
       "    <tr>\n",
       "      <th>492</th>\n",
       "      <td>0.354475</td>\n",
       "      <td>0.225506</td>\n",
       "      <td>0.216381</td>\n",
       "      <td>-0.620170</td>\n",
       "    </tr>\n",
       "    <tr>\n",
       "      <th>493</th>\n",
       "      <td>1.212301</td>\n",
       "      <td>1.581369</td>\n",
       "      <td>0.270045</td>\n",
       "      <td>-0.241285</td>\n",
       "    </tr>\n",
       "    <tr>\n",
       "      <th>494</th>\n",
       "      <td>1.673935</td>\n",
       "      <td>-0.238095</td>\n",
       "      <td>0.185654</td>\n",
       "      <td>0.254210</td>\n",
       "    </tr>\n",
       "    <tr>\n",
       "      <th>495</th>\n",
       "      <td>0.983594</td>\n",
       "      <td>-1.100911</td>\n",
       "      <td>-0.915298</td>\n",
       "      <td>-0.164908</td>\n",
       "    </tr>\n",
       "    <tr>\n",
       "      <th>496</th>\n",
       "      <td>0.819559</td>\n",
       "      <td>-1.865405</td>\n",
       "      <td>-0.445393</td>\n",
       "      <td>1.181778</td>\n",
       "    </tr>\n",
       "    <tr>\n",
       "      <th>497</th>\n",
       "      <td>-0.120593</td>\n",
       "      <td>-1.483780</td>\n",
       "      <td>1.527101</td>\n",
       "      <td>-0.729860</td>\n",
       "    </tr>\n",
       "    <tr>\n",
       "      <th>498</th>\n",
       "      <td>2.068199</td>\n",
       "      <td>0.599537</td>\n",
       "      <td>0.388137</td>\n",
       "      <td>-0.819932</td>\n",
       "    </tr>\n",
       "    <tr>\n",
       "      <th>499</th>\n",
       "      <td>-0.775776</td>\n",
       "      <td>-1.450549</td>\n",
       "      <td>0.773289</td>\n",
       "      <td>0.523201</td>\n",
       "    </tr>\n",
       "  </tbody>\n",
       "</table>\n",
       "<p>500 rows × 4 columns</p>\n",
       "</div>"
      ],
      "text/plain": [
       "       value1    value2    value3    value4\n",
       "0   -1.242792 -0.950909 -0.113704 -0.468531\n",
       "1    1.218884  0.985338 -0.073398  0.934937\n",
       "2   -1.080485 -1.121431  2.191012 -0.903608\n",
       "3   -0.213825 -1.218590 -1.395919 -0.273149\n",
       "4    1.262840  0.378681 -0.686289  1.845988\n",
       "5   -0.011632  0.538161 -1.427357  0.216913\n",
       "6   -0.673574  0.137865 -0.245182  0.429225\n",
       "7   -1.032142  0.977869 -1.267411 -0.371800\n",
       "8    0.979109 -0.088962  0.787205  0.476403\n",
       "9   -0.934138  1.100111 -0.765507 -0.379743\n",
       "10   0.575288 -1.745675 -0.045279  0.405061\n",
       "11   0.846512  0.177144 -0.083207  0.282986\n",
       "12   0.948003  1.018580 -0.031314  0.012756\n",
       "13  -0.512908  0.690853 -0.115952  0.813600\n",
       "14   0.372737 -0.486765 -0.512968 -1.062927\n",
       "15  -0.800698  0.263608  1.734419  1.681362\n",
       "16   0.153072 -1.938354  0.512061 -1.574238\n",
       "17  -0.194048 -1.178506 -0.445712 -0.855627\n",
       "18   0.201827 -1.161509 -1.557041 -1.102628\n",
       "19   1.538187  0.718721 -0.013299  0.460764\n",
       "20   0.467409  1.278752  0.309938  0.185128\n",
       "21   0.236186  0.769584  0.224319  1.276812\n",
       "22   1.479865 -2.049436 -0.279597  0.255224\n",
       "23  -0.086427 -0.829970  1.747586 -0.354977\n",
       "24   1.837456  1.342027  1.221319 -0.607342\n",
       "25  -0.615430 -0.949393  2.247401 -0.477536\n",
       "26  -0.207119  0.497745 -0.625808 -0.902232\n",
       "27  -0.857503 -0.777243 -2.649048  1.590168\n",
       "28  -0.025858  0.266975 -1.006150 -0.149595\n",
       "29   1.993779 -0.340798 -0.670607 -0.670721\n",
       "..        ...       ...       ...       ...\n",
       "470 -0.435661 -0.107134 -0.956908 -0.109261\n",
       "471  1.580564 -0.465805  1.457943 -1.418397\n",
       "472  0.549299  0.395088  0.160335  0.913509\n",
       "473 -1.399952  0.845960  0.471456 -0.280354\n",
       "474  0.236455 -0.978621 -0.546400 -1.626062\n",
       "475 -0.305186 -0.189920  1.354091  0.097312\n",
       "476  0.750758  0.377859 -0.756556  0.281568\n",
       "477 -0.565522 -2.756689 -0.824368 -0.173430\n",
       "478  1.604647 -1.172632  0.799930  0.133006\n",
       "479 -0.099548 -1.085971  0.114024 -0.672301\n",
       "480  0.120769  0.112670  1.114388  1.318711\n",
       "481 -1.058115 -0.785469  0.031638  0.278866\n",
       "482  0.982574  0.908906 -0.675242  1.012615\n",
       "483  0.590721  0.545759 -0.283771 -0.212492\n",
       "484 -1.201221 -0.126789 -1.930606  0.162941\n",
       "485 -1.301042 -1.003486  0.085552 -0.150525\n",
       "486 -0.001703  2.051382  0.152757  0.495016\n",
       "487 -1.147799 -0.183211 -0.549064  1.710210\n",
       "488  1.608736  0.815881 -0.441957  1.212831\n",
       "489  1.558463  1.915134 -0.051436  0.602893\n",
       "490  0.876359 -1.061796  0.885227 -1.886710\n",
       "491 -0.274206 -0.336339 -0.284281 -0.327872\n",
       "492  0.354475  0.225506  0.216381 -0.620170\n",
       "493  1.212301  1.581369  0.270045 -0.241285\n",
       "494  1.673935 -0.238095  0.185654  0.254210\n",
       "495  0.983594 -1.100911 -0.915298 -0.164908\n",
       "496  0.819559 -1.865405 -0.445393  1.181778\n",
       "497 -0.120593 -1.483780  1.527101 -0.729860\n",
       "498  2.068199  0.599537  0.388137 -0.819932\n",
       "499 -0.775776 -1.450549  0.773289  0.523201\n",
       "\n",
       "[500 rows x 4 columns]"
      ]
     },
     "execution_count": 55,
     "metadata": {},
     "output_type": "execute_result"
    }
   ],
   "source": [
    "df"
   ]
  },
  {
   "cell_type": "code",
   "execution_count": 60,
   "metadata": {},
   "outputs": [
    {
     "name": "stderr",
     "output_type": "stream",
     "text": [
      "C:\\ProgramData\\Anaconda3\\envs\\tensorflow_env\\lib\\site-packages\\ipykernel\\__main__.py:1: FutureWarning: pandas.scatter_matrix is deprecated, use pandas.plotting.scatter_matrix instead\n",
      "  if __name__ == '__main__':\n"
     ]
    },
    {
     "data": {
      "text/plain": [
       "array([[<matplotlib.axes._subplots.AxesSubplot object at 0x00000000175C7198>,\n",
       "        <matplotlib.axes._subplots.AxesSubplot object at 0x0000000017AA8160>,\n",
       "        <matplotlib.axes._subplots.AxesSubplot object at 0x0000000017CDC860>,\n",
       "        <matplotlib.axes._subplots.AxesSubplot object at 0x0000000017D0FFD0>],\n",
       "       [<matplotlib.axes._subplots.AxesSubplot object at 0x0000000017E16780>,\n",
       "        <matplotlib.axes._subplots.AxesSubplot object at 0x0000000017ED0EF0>,\n",
       "        <matplotlib.axes._subplots.AxesSubplot object at 0x0000000017F116A0>,\n",
       "        <matplotlib.axes._subplots.AxesSubplot object at 0x0000000017FC8E10>],\n",
       "       [<matplotlib.axes._subplots.AxesSubplot object at 0x000000001804A588>,\n",
       "        <matplotlib.axes._subplots.AxesSubplot object at 0x000000001807FCF8>,\n",
       "        <matplotlib.axes._subplots.AxesSubplot object at 0x00000000181884A8>,\n",
       "        <matplotlib.axes._subplots.AxesSubplot object at 0x00000000181B8C18>],\n",
       "       [<matplotlib.axes._subplots.AxesSubplot object at 0x000000001823D3C8>,\n",
       "        <matplotlib.axes._subplots.AxesSubplot object at 0x00000000188C9B38>,\n",
       "        <matplotlib.axes._subplots.AxesSubplot object at 0x000000001894B2E8>,\n",
       "        <matplotlib.axes._subplots.AxesSubplot object at 0x0000000018A04A58>]],\n",
       "      dtype=object)"
      ]
     },
     "execution_count": 60,
     "metadata": {},
     "output_type": "execute_result"
    },
    {
     "data": {
      "image/png": "[encoded data removed]",
      "text/plain": [
       "<Figure size 432x432 with 16 Axes>"
      ]
     },
     "metadata": {
      "needs_background": "light"
     },
     "output_type": "display_data"
    }
   ],
   "source": [
    "scatter_matrix(df, alpha=0.2, figsize = (6,6), diagonal='hist')"
   ]
  },
  {
   "cell_type": "code",
   "execution_count": null,
   "metadata": {},
   "outputs": [],
   "source": []
  }
 ],
 "metadata": {
  "kernelspec": {
   "display_name": "Python [conda env:tensorflow_env]",
   "language": "python",
   "name": "conda-env-tensorflow_env-py"
  },
  "language_info": {
   "codemirror_mode": {
    "name": "ipython",
    "version": 2
   },
   "file_extension": ".py",
   "mimetype": "text/x-python",
   "name": "python",
   "nbconvert_exporter": "python",
   "pygments_lexer": "ipython2",
   "version": "2.7.15"
  }
 },
 "nbformat": 4,
 "nbformat_minor": 2
}
